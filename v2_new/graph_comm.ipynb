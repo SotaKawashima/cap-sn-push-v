{
 "cells": [
  {
   "cell_type": "markdown",
   "id": "0487faee-acd6-44c1-83f1-dfe02219a063",
   "metadata": {},
   "source": [
    "# community"
   ]
  },
  {
   "cell_type": "code",
   "execution_count": 2,
   "id": "0babacbe-39d1-433b-8f62-ea5a92457ae2",
   "metadata": {},
   "outputs": [
    {
     "name": "stdout",
     "output_type": "stream",
     "text": [
      "Note: to be able to use all crisp methods, you need to install some additional packages:  {'leidenalg', 'graph_tool', 'bayanpy', 'wurlitzer', 'infomap'}\n",
      "Note: to be able to use all crisp methods, you need to install some additional packages:  {'pyclustering', 'ASLPAw'}\n",
      "Note: to be able to use all crisp methods, you need to install some additional packages:  {'wurlitzer', 'infomap', 'leidenalg'}\n"
     ]
    }
   ],
   "source": [
    "import networkx as nx\n",
    "from cdlib import algorithms\n",
    "import numpy"
   ]
  },
  {
   "cell_type": "code",
   "execution_count": 2,
   "id": "4468054f-0ece-4f42-82eb-034155995be8",
   "metadata": {},
   "outputs": [],
   "source": [
    "C = 5\n",
    "G = nx.karate_club_graph()"
   ]
  },
  {
   "cell_type": "code",
   "execution_count": 60,
   "id": "5c0c7aa9-5edf-40f4-b00d-1a1c5d86f755",
   "metadata": {},
   "outputs": [],
   "source": [
    "def get_comm(G: nx.Graph, c: int) -> list[list[float]]:\n",
    "    return algorithms.principled_clustering(G, c)\n",
    "\n",
    "def show_comms(G, comms, C):\n",
    "    for n in G.nodes:\n",
    "        ps = comms.allocation_matrix[n]\n",
    "        s = \",\".join(map(lambda i: f\"{ps[i]:7.2f}\", range(C)))\n",
    "        print(f\"p_{n:<2}=[{s}]\")\n",
    "\n",
    "def show_dist(comms, c):\n",
    "    ds = [[coms.allocation_matrix[n][k] for n in G.nodes] for k in range(c)]\n",
    "    print(\" \"*2, \"|\".join(map(lambda i: f\"{i:^5}\", range(c))))\n",
    "    for i, d1 in enumerate(ds):\n",
    "        css = [numpy.dot(d1, d2) / numpy.linalg.norm(d1) / numpy.linalg.norm(d2) for d2 in ds]\n",
    "        print(f\"{i:2}\", \"|\".join(map(lambda cs: f\"{cs:.3f}\", css)))\n",
    "\n",
    "def export_edgelist(g: nx.Graph, path: str):\n",
    "    with open(path, mode=\"w\") as f:\n",
    "        for [i, j, _] in nx.to_edgelist(g):\n",
    "            f.write(f\"{i} {j}\\n\")\n",
    "\n",
    "def export_comm(ids: list, comms, k: int, path: str):\n",
    "    with open(path, mode=\"w\") as f:\n",
    "        f.write(\"level,agent_idx\\n\")\n",
    "        for i, id in enumerate(ids):\n",
    "            f.write(f\"{comms.allocation_matrix[id][k]/100.0},{i}\\n\")"
   ]
  },
  {
   "cell_type": "code",
   "execution_count": 15,
   "id": "7443fda2-9270-476f-9788-d0d670c28318",
   "metadata": {
    "scrolled": true
   },
   "outputs": [],
   "source": [
    "g = nx.barabasi_albert_graph(n=500, m=5)\n",
    "comms = get_comm(g, 2)\n",
    "export_edgelist(g, \"./ba500-5/edelist.txt\")\n",
    "export_comm(g.number_of_nodes(), comms, 0, \"./ba500-5/comm.csv\")"
   ]
  },
  {
   "cell_type": "code",
   "execution_count": 28,
   "id": "1a096422-ada3-486e-8cfa-16a195324f44",
   "metadata": {},
   "outputs": [
    {
     "data": {
      "text/plain": [
       "2475"
      ]
     },
     "execution_count": 28,
     "metadata": {},
     "output_type": "execute_result"
    }
   ],
   "source": [
    "e = (n - m) * m"
   ]
  },
  {
   "cell_type": "markdown",
   "id": "1bd5cea1-0e1a-48eb-9545-40e4d565926b",
   "metadata": {},
   "source": [
    "2m(n-m)/n(n-1) = 2m'(n'-m')/n'(n'-1) \n",
    "m'^2 -m'n' +m(n-m)n'(n'-1)/n(n-1)=0\n",
    "m'=1/2{1 +- sqrt(1-4 m(n-m)n'(n'-1)/n(n-1))}"
   ]
  },
  {
   "cell_type": "code",
   "execution_count": 39,
   "id": "20f7cfbb-e860-4e53-a140-a4cf914a1893",
   "metadata": {},
   "outputs": [],
   "source": [
    "def f(n, m, nd):\n",
    "    c = (n-m)*m * nd*(nd-1)/n/(n-1)\n",
    "    d = numpy.sqrt(nd**2-4*c)\n",
    "    return (\n",
    "        (nd + d)/2,\n",
    "        (nd - d)/2,\n",
    "    )"
   ]
  },
  {
   "cell_type": "code",
   "execution_count": 40,
   "id": "c209d4ac-9a3f-401f-a72a-26efaa637ee1",
   "metadata": {},
   "outputs": [
    {
     "data": {
      "text/plain": [
       "(989.989877610059, 10.010122389940932)"
      ]
     },
     "execution_count": 40,
     "metadata": {},
     "output_type": "execute_result"
    }
   ],
   "source": [
    "f(500, 5, 1000)"
   ]
  },
  {
   "cell_type": "code",
   "execution_count": 45,
   "id": "297c3d6b-f137-4725-8a4a-7bee2a5b4760",
   "metadata": {
    "scrolled": true
   },
   "outputs": [],
   "source": [
    "g = nx.barabasi_albert_graph(n=1000, m=10)\n",
    "comms = get_comm(g, 2)\n",
    "# !mkdir ba1000-10\n",
    "export_edgelist(g, \"./config/network/ba1000-10/edgelist.txt\")\n",
    "export_comm(g.number_of_nodes(), comms, 0, \"./config/network/ba1000-10/comm.csv\")"
   ]
  },
  {
   "cell_type": "code",
   "execution_count": 67,
   "id": "890f19c4-e54c-4a98-8a6c-d1d82dc1d996",
   "metadata": {},
   "outputs": [],
   "source": [
    "fg = nx.read_edgelist(\"./config/network/facebook/edgelist.txt\", nodetype=int)"
   ]
  },
  {
   "cell_type": "code",
   "execution_count": 69,
   "id": "40976c1b-4197-4294-8860-3154b0cc7de4",
   "metadata": {},
   "outputs": [
    {
     "data": {
      "text/plain": [
       "88234"
      ]
     },
     "execution_count": 69,
     "metadata": {},
     "output_type": "execute_result"
    }
   ],
   "source": [
    "fg.number_of_edges()"
   ]
  },
  {
   "cell_type": "code",
   "execution_count": 23,
   "id": "a2da2456-8353-4770-8ba5-b6d2a4b8a980",
   "metadata": {},
   "outputs": [],
   "source": [
    "export_comm(fg.number_of_nodes(), get_comm(fg, 2), 0, \"./config/network/facebook/comm.csv\")"
   ]
  },
  {
   "cell_type": "code",
   "execution_count": 32,
   "id": "a9c8ac96-161d-4c29-8198-51a4202eb030",
   "metadata": {},
   "outputs": [
    {
     "data": {
      "text/plain": [
       "array([0.  , 0.01, 0.02, 0.03, 0.04, 0.05, 0.06, 0.07, 0.08, 0.09, 0.1 ,\n",
       "       0.11, 0.12, 0.13, 0.14, 0.15, 0.16, 0.17, 0.18, 0.19, 0.2 ])"
      ]
     },
     "execution_count": 32,
     "metadata": {},
     "output_type": "execute_result"
    }
   ],
   "source": [
    "numpy.linspace(0,0.2, 21)"
   ]
  },
  {
   "cell_type": "code",
   "execution_count": 61,
   "id": "fb058f89-39e9-4683-b14c-5572d14b0772",
   "metadata": {
    "scrolled": true
   },
   "outputs": [],
   "source": [
    "g = nx.read_edgelist(\"./config/network/wiki-vote/wiki-Vote.txt\", nodetype=int,create_using=nx.DiGraph)"
   ]
  },
  {
   "cell_type": "code",
   "execution_count": 62,
   "id": "ba387548-6516-492c-862f-fd37a325273a",
   "metadata": {},
   "outputs": [],
   "source": [
    "comm = get_comm(g, 2)"
   ]
  },
  {
   "cell_type": "code",
   "execution_count": 66,
   "id": "3aac1092-63b7-4b8b-8aaa-74d36a3525f9",
   "metadata": {},
   "outputs": [],
   "source": [
    "export_comm(sorted(g.nodes()), comm, 0, \"./config/network/wiki-vote/comm.csv\")"
   ]
  }
 ],
 "metadata": {
  "kernelspec": {
   "display_name": "Python 3 (ipykernel)",
   "language": "python",
   "name": "python3"
  },
  "language_info": {
   "codemirror_mode": {
    "name": "ipython",
    "version": 3
   },
   "file_extension": ".py",
   "mimetype": "text/x-python",
   "name": "python",
   "nbconvert_exporter": "python",
   "pygments_lexer": "ipython3",
   "version": "3.12.1"
  }
 },
 "nbformat": 4,
 "nbformat_minor": 5
}
