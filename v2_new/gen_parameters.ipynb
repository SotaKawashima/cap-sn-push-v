{
 "cells": [
  {
   "cell_type": "markdown",
   "id": "4b6a6e2c-ca78-41d8-a914-904bd5c534eb",
   "metadata": {},
   "source": [
    "## condition data"
   ]
  },
  {
   "cell_type": "code",
   "execution_count": 318,
   "id": "0934d2a1-9496-44bb-895e-cf4b9a2819ff",
   "metadata": {
    "jupyter": {
     "source_hidden": true
    }
   },
   "outputs": [],
   "source": [
    "import numpy as np\n",
    "from pathlib import Path\n",
    "\n",
    "def gen_inhibition(o: float, c: float):\n",
    "    o1 = o / 100\n",
    "    ou = (100 - o)/100\n",
    "    c0 = c / 100\n",
    "    cu = (100 - c)/100\n",
    "    lines = [\n",
    "        \"phi_b0,phi_b1,phi_u,phi_a0,phi_a1,psi0_b0,psi0_b1,psi0_u,psi1_b0,psi1_b1,psi1_u,b0_b0,b0_b1,b0_u,b1_b0,b1_b1,b1_u\\n\",\n",
    "        f\"0.0,{o1},{ou},{ou},{o1},0.5,0.0,0.5,{c0},0.0,{cu},0.5,0.0,0.5,{c0},0.0,{cu}\",\n",
    "    ]\n",
    "    return dict(\n",
    "        name=f\"{o}_{c}\",\n",
    "        lines=lines\n",
    "    )\n",
    "\n",
    "def gen_cond(u: float, v0: float, v1: float, n: float):\n",
    "    if v0 == v1:\n",
    "        n = 1\n",
    "    text: list[str] = []\n",
    "    text.append(\"b00,b01,u0,b10,b11,u1\\n\")\n",
    "    for v in np.linspace(v0, v1, n):\n",
    "        text.append(f\"{u/100},0.00,{(100-u)/100},0.00,{v/100},{(100-v)/100}\\n\")\n",
    "    vn = v0 if n == 1 else f\"[{v0}-{v1}_{n}]\"\n",
    "    return dict(\n",
    "        name=f\"{u}_{vn}\",\n",
    "        lines=text\n",
    "    )\n",
    "\n",
    "def gen_cond2(d0: float, b0: float, d1_0: float, d1_1: float, u1: float, n: float):\n",
    "    if d1_0 == d1_1:\n",
    "        n = 1\n",
    "    lines: list[str] = []\n",
    "    lines.append(\"b00,b01,u0,b10,b11,u1\\n\")\n",
    "    u0 = 100 - d0 - b0\n",
    "    for d1 in np.linspace(d1_0, d1_1, n):\n",
    "        b1 = 100 - d1 - u1\n",
    "        lines.append(f\"{d0/100},{b0/100},{u0/100},{d1/100},{b1/100},{u1/100}\\n\")\n",
    "    d1n = d1_0 if n == 1 else f\"[{d1_0}-{d1_1}_{n}]\"\n",
    "    return dict(\n",
    "        name=f\"d{d0}b{b0}_d{d1n}u{u1}\",\n",
    "        lines=lines\n",
    "    )\n",
    "\n",
    "def gen_cond3(d0: float, b0: float, d1: float, b1_0: float, b1_1: float, n: float):\n",
    "    if b1_0 == b1_1:\n",
    "        n = 1\n",
    "    lines: list[str] = []\n",
    "    lines.append(\"b00,b01,u0,b10,b11,u1\\n\")\n",
    "    u0 = 100 - d0 - b0\n",
    "    for b1 in np.linspace(b1_0, b1_1, n):\n",
    "        u1 = 100 - d1 - b1\n",
    "        lines.append(f\"{d0/100},{b0/100},{u0/100},{d1/100},{b1/100},{u1/100}\\n\")\n",
    "    b1n = b1_0 if n == 1 else f\"[{b1_0}-{b1_1}_{n}]\"\n",
    "    return dict(\n",
    "        name=f\"d{d0}b{b0}_d{d1}b{b1n}\",\n",
    "        lines=lines\n",
    "    )\n",
    "\n",
    "def gen_cond0(v0: int, v1: int, n: int):\n",
    "    return gen_cond(95, v0, v1, n)\n",
    "\n",
    "def gen_opinion_a(b0: float, b1: float, n: int, a: float):\n",
    "    lines = []\n",
    "    if b0 == b1:\n",
    "        n = 1\n",
    "    lines.append(\"b0,b1,u,a0,a1\\n\")\n",
    "    for b in np.linspace(b0, b1, n):\n",
    "        lines.append(f\"0.0,{b/100},{(100-b)/100},{(100-a)/100},{a/100}\\n\")\n",
    "    bs = f\"{b0}\" if n == 1 else f\"[{b0}-{b1}_{n}]\"\n",
    "    return dict(name=f\"a{bs}_{a}\", lines=lines)\n",
    "\n",
    "def gen_opinion_n(d0: float, d1: float, n: int, a: float):\n",
    "    lines = []\n",
    "    if d0 == d1:\n",
    "        n = 1\n",
    "    lines.append(\"b0,b1,u,a0,a1\\n\")\n",
    "    for d in np.linspace(d0, d1, n):\n",
    "        lines.append(f\"{d/100},0.0,{(100-d)/100},{a/100},{(100-a)/100}\\n\")\n",
    "    ds = f\"{d0}\" if n == 1 else f\"[{d0}-{d1}_{n}]\"\n",
    "    return dict(name=f\"n{ds}_{a}\", lines=lines)\n",
    "\n",
    "def gen_prospect(s0: float, s1: float, n: int, y: int):\n",
    "    \"\"\"\n",
    "        s0, s1 > 0\n",
    "    \"\"\"\n",
    "    lines = []\n",
    "    if s0 == s1:\n",
    "        n = 1\n",
    "    lines.append(\"x0,x1,y\\n\")\n",
    "    for s in np.linspace(s0, s1, n):\n",
    "        lines.append(f\"-1.0,-{s},-{y/1000}\\n\")\n",
    "    xs = f\"x{s0}\" if n == 1 else f\"x[{s0}-{s1}_{n}]\"\n",
    "    return dict(name=f\"{xs}-ym{y}\", lines=lines)\n",
    "    \n",
    "def gen_prospect_u(s0: float, s1: float, n: int, y: int):\n",
    "    \"\"\"\n",
    "        s0, s1 > 0\n",
    "    \"\"\"\n",
    "    lines = []\n",
    "    if s0 == s1:\n",
    "        n = 1\n",
    "    lines.append(\"x0,x1,y\\n\")\n",
    "    for s in np.linspace(s0, s1, n):\n",
    "        lines.append(f\"-1.0,-{s},-{y/1000/1000}\\n\")\n",
    "    xs = f\"x{s0}\" if n == 1 else f\"x[{s0}-{s1}_{n}]\"\n",
    "    return dict(name=f\"{xs}-yu{y}\", lines=lines)\n",
    "def export_lines(d: str, **argv):\n",
    "    fn = f\"{argv['name']}.csv\"\n",
    "    d = Path(d).joinpath(fn)\n",
    "    with open(d, mode=\"w\") as f:\n",
    "        f.writelines(argv['lines'])\n",
    "    print(\"exported\", fn)\n"
   ]
  },
  {
   "cell_type": "code",
   "execution_count": 155,
   "id": "e5c6a4ba-ff90-49db-9f89-b69c7932baaa",
   "metadata": {
    "collapsed": true,
    "jupyter": {
     "outputs_hidden": true
    },
    "scrolled": true
   },
   "outputs": [
    {
     "data": {
      "text/plain": [
       "{'name': 'x[2-6_33]',\n",
       " 'lines': ['x0,x1,y\\n',\n",
       "  '-1.0,-2.0,-0.001\\n',\n",
       "  '-1.0,-2.125,-0.001\\n',\n",
       "  '-1.0,-2.25,-0.001\\n',\n",
       "  '-1.0,-2.375,-0.001\\n',\n",
       "  '-1.0,-2.5,-0.001\\n',\n",
       "  '-1.0,-2.625,-0.001\\n',\n",
       "  '-1.0,-2.75,-0.001\\n',\n",
       "  '-1.0,-2.875,-0.001\\n',\n",
       "  '-1.0,-3.0,-0.001\\n',\n",
       "  '-1.0,-3.125,-0.001\\n',\n",
       "  '-1.0,-3.25,-0.001\\n',\n",
       "  '-1.0,-3.375,-0.001\\n',\n",
       "  '-1.0,-3.5,-0.001\\n',\n",
       "  '-1.0,-3.625,-0.001\\n',\n",
       "  '-1.0,-3.75,-0.001\\n',\n",
       "  '-1.0,-3.875,-0.001\\n',\n",
       "  '-1.0,-4.0,-0.001\\n',\n",
       "  '-1.0,-4.125,-0.001\\n',\n",
       "  '-1.0,-4.25,-0.001\\n',\n",
       "  '-1.0,-4.375,-0.001\\n',\n",
       "  '-1.0,-4.5,-0.001\\n',\n",
       "  '-1.0,-4.625,-0.001\\n',\n",
       "  '-1.0,-4.75,-0.001\\n',\n",
       "  '-1.0,-4.875,-0.001\\n',\n",
       "  '-1.0,-5.0,-0.001\\n',\n",
       "  '-1.0,-5.125,-0.001\\n',\n",
       "  '-1.0,-5.25,-0.001\\n',\n",
       "  '-1.0,-5.375,-0.001\\n',\n",
       "  '-1.0,-5.5,-0.001\\n',\n",
       "  '-1.0,-5.625,-0.001\\n',\n",
       "  '-1.0,-5.75,-0.001\\n',\n",
       "  '-1.0,-5.875,-0.001\\n',\n",
       "  '-1.0,-6.0,-0.001\\n']}"
      ]
     },
     "execution_count": 155,
     "metadata": {},
     "output_type": "execute_result"
    }
   ],
   "source": [
    "# gen_opinion_a(95, 95, 1, 80)\n",
    "# gen_opinion_a(85, 95, 5, 80)\n",
    "# gen_opinion_n(85, 95, 5, 80)"
   ]
  },
  {
   "cell_type": "code",
   "execution_count": 320,
   "id": "e6583f19-b3d2-4ab8-ae8a-559c13196677",
   "metadata": {},
   "outputs": [
    {
     "name": "stdout",
     "output_type": "stream",
     "text": [
      "exported 50_50.csv\n"
     ]
    }
   ],
   "source": [
    "# export_lines(\"./config/inhibition/\", **gen_inhibition(90,90))\n",
    "export_lines(\"./config/inhibition/\", **gen_inhibition(50,50))"
   ]
  },
  {
   "cell_type": "code",
   "execution_count": 181,
   "id": "d171e692-2f19-4313-94e7-0045d0fe07d0",
   "metadata": {},
   "outputs": [
    {
     "name": "stdout",
     "output_type": "stream",
     "text": [
      "exported a75_50.csv\n"
     ]
    }
   ],
   "source": [
    "# export_lines(\"./config/opinion/\", **gen_opinion_a(95, 95, 1, 90))\n",
    "# export_lines(\"./config/opinion/\", **gen_opinion_a(95, 95, 1, 80))\n",
    "# export_lines(\"./config/opinion/\", **gen_opinion_a(95, 95, 1, 95))\n",
    "export_lines(\"./config/opinion/\", **gen_opinion_a(75, 75, 1, 50))\n",
    "# export_lines(\"./config/opinion/\", **gen_opinion_a(50, 50, 50, 50))"
   ]
  },
  {
   "cell_type": "code",
   "execution_count": 293,
   "id": "ae9331e1-5e5a-4239-8556-07264480d7f6",
   "metadata": {},
   "outputs": [
    {
     "name": "stdout",
     "output_type": "stream",
     "text": [
      "exported x[4-8_33]-ym1.csv\n",
      "exported x3-yu10.csv\n"
     ]
    }
   ],
   "source": [
    "# export_lines(\"./config/prospect/\", **gen_prospect(5,7,17,-0.001))\n",
    "# export_lines(\"./config/prospect/\", **gen_prospect(7,7,1,-0.001))\n",
    "# export_lines(\"./config/prospect/\", **gen_prospect(4,6,17,-0.001))\n",
    "# export_lines(\"./config/prospect/\", **gen_prospect(2,6,33,-0.001))\n",
    "# export_lines(\"./config/prospect/\", **gen_prospect(4,8,33,-0.001))\n",
    "# export_lines(\"./config/prospect/\", **gen_prospect(6,10,33,-0.001))\n",
    "# export_lines(\"./config/prospect/\", **gen_prospect(8,12,33,1))\n",
    "# export_lines(\"./config/prospect/\", **gen_prospect(4,8,33,1))\n",
    "# export_lines(\"./config/prospect/\", **gen_prospect(4,8,33,50))\n",
    "# export_lines(\"./config/prospect/\", **gen_prospect(4,8,33,3))\n",
    "export_lines(\"./config/prospect/\", **gen_prospect(4,8,33,1))\n",
    "export_lines(\"./config/prospect/\", **gen_prospect_u(3,3,1,10))\n",
    "# export_lines(\"./config/prospect/\", **gen_prospect_u(4,6,33,200))\n",
    "# export_lines(\"./config/prospect/\", **gen_prospect_u(2,6,33,100))"
   ]
  },
  {
   "cell_type": "code",
   "execution_count": 273,
   "id": "d706a46d-3b48-45d4-b60b-d494877059ad",
   "metadata": {
    "jupyter": {
     "source_hidden": true
    }
   },
   "outputs": [
    {
     "name": "stdout",
     "output_type": "stream",
     "text": [
      "exported d20b0_d50u30.csv\n"
     ]
    }
   ],
   "source": [
    "# export_lines(\"./config/cond/\", **gen_cond2(95, 0, 0, 10, 10, 11))\n",
    "# export_lines(\"./config/cond/\", **gen_cond2(95, 0, 0, 20, 20, 21))\n",
    "# export_lines(\"./config/cond/\", **gen_cond2(95, 0, 30, 50, 20, 21))\n",
    "# export_lines(\"./config/cond/\", **gen_cond2(95, 0, 0, 50, 30, 51))\n",
    "# export_lines(\"./config/cond/\", **gen_cond2(95, 0, 0, 30, 10, 31))\n",
    "# export_lines(\"./config/cond/\", **gen_cond2(95, 0, 0, 30, 10, 21))\n",
    "# export_lines(\"./config/cond/\", **gen_cond2(95, 0, 5, 15, 10, 11))\n",
    "# export_lines(\"./config/cond/\", **gen_cond2(95, 0, 5, 25, 10, 21))\n",
    "# export_lines(\"./config/cond/\", **gen_cond2(95, 0, 10, 20, 10, 11))\n",
    "# export_lines(\"./config/cond/\", **gen_cond2(95, 0, 10, 20, 20, 11))\n",
    "# export_lines(\"./config/cond/\", **gen_cond2(95, 0, 10, 60, 30, 51))\n",
    "# export_lines(\"./config/cond/\", **gen_cond2(95, 0, 20, 70, 30, 51))\n",
    "# export_lines(\"./config/cond/\", **gen_cond2(95, 0, 40, 60, 20, 21))\n",
    "# export_lines(\"./config/cond/\", **gen_cond2(95, 0, 50, 50, 0, 1))\n",
    "# export_lines(\"./config/cond/\", **gen_cond2(95, 0, 30, 30, 40, 1))\n",
    "# export_lines(\"./config/cond/\", **gen_cond2(95, 0, 0, 10, 50, 11))\n",
    "# export_lines(\"./config/cond/\", **gen_cond3(95, 0, 0, 20, 50, 31))\n",
    "# export_lines(\"./config/cond/\", **gen_cond3(95, 0, 0, 50, 60, 11))\n",
    "# export_lines(\"./config/cond/\", **gen_cond3(95, 0, 0, 50, 80, 31))\n",
    "# export_lines(\"./config/cond/\", **gen_cond2(95, 0, 0, 30, 60, 31))\n",
    "# export_lines(\"./config/cond/\", **gen_cond2(95, 0, 10, 20, 30, 11))\n",
    "# export_lines(\"./config/cond/\", **gen_cond2(95, 0, 10, 30, 30, 21))\n",
    "# export_lines(\"./config/cond/\", **gen_cond2(95, 0, 20, 40, 30, 21))\n",
    "# export_lines(\"./config/cond/\", **gen_cond2(95, 0, 10, 30, 10, 21))\n",
    "# export_lines(\"./config/cond/\", **gen_cond2(95, 0, 10, 30, 40, 21))\n",
    "# export_lines(\"./config/cond/\", **gen_cond2(95, 0, 10, 50, 10, 41))\n",
    "# export_lines(\"./config/cond/\", **gen_cond2(95, 0, 20, 40, 40, 21))\n",
    "# export_lines(\"./config/cond/\", **gen_cond2(95, 0, 10, 10, 80, 21))\n",
    "# export_lines(\"./config/cond/\", **gen_cond2(95, 0, 30, 50, 10, 21))\n",
    "# export_lines(\"./config/cond/\", **gen_cond2(95, 0, 50, 50, 40, 21))\n",
    "# export_lines(\"./config/cond/\", **gen_cond2(95, 0, 30, 70, 10, 41))\n",
    "# export_lines(\"./config/cond/\", **gen_cond2(70, 0, 10, 10, 80, 1))\n",
    "# export_lines(\"./config/cond/\", **gen_cond2(70, 0, 10, 50, 30, 41))\n",
    "# export_lines(\"./config/cond/\", **gen_cond2(70, 0, 10, 40, 50, 31))\n",
    "# export_lines(\"./config/cond/\", **gen_cond2(70, 0, 10, 10, 50, 1))\n",
    "# export_lines(\"./config/cond/\", **gen_cond2(70, 0, 0, 20, 30, 21))\n",
    "# export_lines(\"./config/cond/\", **gen_cond2(70, 0, 0, 10, 30, 11))\n",
    "# export_lines(\"./config/cond/\", **gen_cond2(70, 0, 0, 0, 30, 1))\n",
    "# export_lines(\"./config/cond/\", **gen_cond2(70, 0, 0, 20, 25, 21))\n",
    "# export_lines(\"./config/cond/\", **gen_cond2(70, 0, 0, 20, 15, 21))\n",
    "# export_lines(\"./config/cond/\", **gen_cond2(70, 0, 0, 20, 5, 21))\n",
    "# export_lines(\"./config/cond/\", **gen_cond2(70, 0, 20, 40, 10, 21))\n",
    "# export_lines(\"./config/cond/\", **gen_cond2(70, 0, 0, 20, 10, 21))\n",
    "# export_lines(\"./config/cond/\", **gen_cond2(70, 0, 10, 10, 10, 21))\n",
    "# export_lines(\"./config/cond/\", **gen_cond2(70, 0, 0, 0, 25, 21))\n",
    "# export_lines(\"./config/cond/\", **gen_cond2(70, 0, 0, 0, 40, 21))\n",
    "# export_lines(\"./config/cond/\", **gen_cond2(70, 0, 30, 30, 10, 21))\n",
    "# export_lines(\"./config/cond/\", **gen_cond2(0, 0, 80, 80, 0, 1))\n",
    "# export_lines(\"./config/cond/\", **gen_cond2(0, 0, 50, 80,  0, 31))\n",
    "# export_lines(\"./config/cond/\", **gen_cond2(0, 0, 50, 70, 10, 21))\n",
    "# export_lines(\"./config/cond/\", **gen_cond2(0, 0, 50, 70, 20, 21))\n",
    "# export_lines(\"./config/cond/\", **gen_cond2(0, 0, 50, 70, 25, 21))\n",
    "# export_lines(\"./config/cond/\", **gen_cond2(0, 0, 50, 70, 30, 21))\n",
    "# export_lines(\"./config/cond/\", **gen_cond2(0, 0, 0, 0, 80, 1))\n",
    "# export_lines(\"./config/cond/\", **gen_cond2(0, 0, 40, 40, 40, 1))\n",
    "# export_lines(\"./config/cond/\", **gen_cond2(0, 0, 50, 50, 50, 1))\n",
    "# export_lines(\"./config/cond/\", **gen_cond2(0, 0, 50, 50, 40, 1))\n",
    "# export_lines(\"./config/cond/\", **gen_cond2(0, 0, 50, 50, 30, 1))\n",
    "# export_lines(\"./config/cond/\", **gen_cond2(0, 0, 50, 50, 30, 1))\n",
    "export_lines(\"./config/cond/\", **gen_cond2(20, 0, 50, 50, 30, 1))\n",
    "# export_lines(\"./config/cond/\", **gen_cond2(0, 0, 30, 30, 30, 1))"
   ]
  },
  {
   "cell_type": "code",
   "execution_count": 338,
   "id": "c32704ae-b49f-45b0-8cc6-e7fdea1a3329",
   "metadata": {},
   "outputs": [
    {
     "name": "stdout",
     "output_type": "stream",
     "text": [
      "exported d70b0_d[0-20_21]u1.csv\n"
     ]
    }
   ],
   "source": [
    "# export_lines(\"./config/cond/\", **gen_cond2(0, 0, 30, 30, 50, 1))\n",
    "# export_lines(\"./config/cond/\", **gen_cond2(0, 0, 25, 25, 55, 1))\n",
    "# export_lines(\"./config/cond/\", **gen_cond2(0, 0, 25, 25, 60, 1))\n",
    "# export_lines(\"./config/cond/\", **gen_cond2(0, 0, 20, 20, 60, 1))\n",
    "# export_lines(\"./config/cond/\", **gen_cond2(0, 0, 10, 10, 70, 1))\n",
    "# export_lines(\"./config/cond/\", **gen_cond2(20, 0, 30, 30, 50, 1))\n",
    "# export_lines(\"./config/cond/\", **gen_cond2(50, 0, 0, 20, 30, 21))\n",
    "# export_lines(\"./config/cond/\", **gen_cond2(50, 0, 0, 20, 10, 21))\n",
    "# export_lines(\"./config/cond/\", **gen_cond2(50, 0, 0, 0, 30, 1))\n",
    "# export_lines(\"./config/cond/\", **gen_cond2(50, 0, 0, 0, 25, 1))\n",
    "# export_lines(\"./config/cond/\", **gen_cond2(20, 0, 0, 0, 25, 1))\n",
    "# export_lines(\"./config/cond/\", **gen_cond2(30, 0, 0, 0, 25, 1))\n",
    "# export_lines(\"./config/cond/\", **gen_cond2(40, 0, 0, 0, 25, 1))\n",
    "# export_lines(\"./config/cond/\", **gen_cond2(50, 0, 0, 20, 10, 21))\n",
    "# export_lines(\"./config/cond/\", **gen_cond2(65, 0, 0, 20, 10, 21))\n",
    "# export_lines(\"./config/cond/\", **gen_cond2(70, 0, 0, 20, 12, 21))\n",
    "# export_lines(\"./config/cond/\", **gen_cond2(50, 0, 0, 20, 5, 21))\n",
    "# export_lines(\"./config/cond/\", **gen_cond2(50, 0, 0, 20, 25, 21))\n",
    "# export_lines(\"./config/cond/\", **gen_cond2(58, 0, 0, 20, 28, 21))\n",
    "# export_lines(\"./config/cond/\", **gen_cond2(52, 0, 0, 20, 30, 21))\n",
    "# export_lines(\"./config/cond/\", **gen_cond2(54, 0, 0, 20, 30, 21))\n",
    "# export_lines(\"./config/cond/\", **gen_cond2(56, 0, 0, 20, 30, 21))\n",
    "# export_lines(\"./config/cond/\", **gen_cond2(57, 0, 0, 20, 30, 21))\n",
    "# export_lines(\"./config/cond/\", **gen_cond2(58, 0, 0, 20, 30, 21))\n",
    "# export_lines(\"./config/cond/\", **gen_cond2(59, 0, 0, 20, 30, 21))\n",
    "# export_lines(\"./config/cond/\", **gen_cond2(52, 0, 0, 20, 5, 21))\n",
    "# export_lines(\"./config/cond/\", **gen_cond2(54, 0, 0, 20, 5, 21))\n",
    "export_lines(\"./config/cond/\", **gen_cond2(70, 0, 0, 20, 1, 21))\n",
    "# export_lines(\"./config/cond/\", **gen_cond2(70, 0, 0, 20, 10, 21))\n",
    "# export_lines(\"./config/cond/\", **gen_cond2(70, 0, 0, 20, 20, 21))\n",
    "# export_lines(\"./config/cond/\", **gen_cond2(80, 0, 0, 20, 10, 21))\n",
    "# export_lines(\"./config/cond/\", **gen_cond2(80, 0, 0, 20, 5, 21))\n",
    "# export_lines(\"./config/cond/\", **gen_cond2(80, 0, 0, 20, 0, 21))\n",
    "# export_lines(\"./config/cond/\", **gen_cond2(90, 0, 0, 20, 0, 21))\n",
    "# export_lines(\"./config/cond/\", **gen_cond2(70, 0, 0, 20, 25, 21))\n",
    "# export_lines(\"./config/cond/\", **gen_cond2(70, 0, 0, 20, 0, 21))\n",
    "# export_lines(\"./config/cond/\", **gen_cond2(80, 0, 0, 20, 10, 21))\n",
    "# export_lines(\"./config/cond/\", **gen_cond2(90, 0, 0, 20, 10, 21))\n",
    "# export_lines(\"./config/cond/\", **gen_cond2(90, 0, 10, 30, 10, 21))\n",
    "# export_lines(\"./config/cond/\", **gen_cond2(95, 0, 0, 20, 5, 21))\n",
    "# export_lines(\"./config/cond/\", **gen_cond2(95, 0, 0, 20, 10, 21))\n",
    "# export_lines(\"./config/cond/\", **gen_cond2(95, 0, 0, 20, 15, 21))\n",
    "# export_lines(\"./config/cond/\", **gen_cond2(95, 0, 0, 20, 20, 21))\n",
    "# export_lines(\"./config/cond/\", **gen_cond2(95, 0, 10, 10, 20, 1))\n",
    "# export_lines(\"./config/cond/\", **gen_cond2(90, 0, 0, 20, 20, 21))\n",
    "# export_lines(\"./config/cond/\", **gen_cond2(95, 0, 40, 60, 10, 21))\n",
    "# export_lines(\"./config/cond/\", **gen_cond2(95, 0, 40, 40, 50, 1))\n",
    "# export_lines(\"./config/cond/\", **gen_cond2(95, 0, 40, 60, 40, 21))\n",
    "# export_lines(\"./config/cond/\", **gen_cond2(95, 0, 30, 30, 30, 1))"
   ]
  },
  {
   "cell_type": "code",
   "execution_count": null,
   "id": "64d4bd70-e10a-49e6-bf5c-4bba3193d706",
   "metadata": {},
   "outputs": [],
   "source": []
  },
  {
   "cell_type": "code",
   "execution_count": 166,
   "id": "9499f2e2-d96b-4880-9f3e-89c457b0a06a",
   "metadata": {},
   "outputs": [
    {
     "name": "stdout",
     "output_type": "stream",
     "text": [
      "exported 95_[80-95_7].csv\n"
     ]
    }
   ],
   "source": [
    "# export_lines(\"./config/cond/\", **gen_cond(50, 90, 90, 1))\n",
    "# export_lines(\"./config/cond/\", **gen_cond(50, 80, 90, 5))\n",
    "# export_lines(\"./config/cond/\", **gen_cond(80, 80, 90, 5))\n",
    "# export_lines(\"./config/cond/\", **gen_cond(80, 80, 95, 7))\n",
    "# export_lines(\"./config/cond/\", **gen_cond(95, 30, 30, 1))\n",
    "# export_lines(\"./config/cond/\", **gen_cond(95, 50, 50, 1))\n",
    "export_lines(\"./config/cond/\", **gen_cond(95, 80, 95, 7))\n",
    "# export_lines(\"./config/cond/\", **gen_cond(95, 90, 90, 1))\n",
    "# export_lines(\"./config/ops/cond/\", **gen_cond(50, 92.5, 92.5, 1))\n",
    "# export_lines(\"./config/ops/cond/\", **gen_cond(50, 95, 95, 1))\n",
    "# export_lines(\"./config/ops/cond/\", **gen_cond(50, 95, 95, 1))\n",
    "# export_lines(\"./config/ops/cond/\", **gen_cond(50,90,97.5,16))\n",
    "# export_lines(\"./config/ops/cond/\", **gen_cond(50,50,50,1))"
   ]
  },
  {
   "cell_type": "code",
   "execution_count": 84,
   "id": "7a72fc80-b08f-4074-9e21-645990d214b0",
   "metadata": {
    "jupyter": {
     "source_hidden": true
    }
   },
   "outputs": [],
   "source": [
    "# write_cond(20, 30, 5, \"./config/ops/cond/\")\n",
    "# write_cond(30, 30, 1, \"./config/ops/cond/\")\n",
    "# write_cond(30, 40, 5, \"./config/ops/cond/\")\n",
    "# write_cond(30, 50, 9, \"./config/ops/cond/\")\n",
    "# write_cond(30, 60, 13, \"./config/ops/cond/\")\n",
    "# write_cond(30, 70, 17, \"./config/ops/cond/\")\n",
    "# write_cond(30, 80, 21, \"./config/ops/cond/\")\n",
    "# write_cond(40, 50, 5, \"./config/ops/cond/\")\n",
    "# write_cond(40, 60, 9, \"./config/ops/cond/\")\n",
    "write_cond(40, 80, 17, \"./config/ops/cond/\")\n",
    "# write_cond(50, 50, 1, \"./config/ops/cond/\")\n",
    "# write_cond(50, 60, 5, \"./config/ops/cond/\")\n",
    "# write_cond(50, 70, 9, \"./config/ops/cond/\")\n",
    "# write_cond(50, 80, 13, \"./config/ops/cond/\")\n",
    "# write_cond(50, 90, 17, \"./config/ops/cond/\")\n",
    "# write_cond(60, 60, 1, \"./config/ops/cond/\")\n",
    "# write_cond(60, 70, 5, \"./config/ops/cond/\")\n",
    "# write_cond(60, 75, 7, \"./config/ops/cond/\")\n",
    "# write_cond(60, 80, 9, \"./config/ops/cond/\")\n",
    "# write_cond(60, 85, 11, \"./config/ops/cond/\")\n",
    "# write_cond(60, 90, 13, \"./config/ops/cond/\")\n",
    "# write_cond(60, 95, 15, \"./config/ops/cond/\")\n",
    "# write_cond(70, 70, 1, \"./config/ops/cond/\")\n",
    "# write_cond(70, 80, 5, \"./config/ops/cond/\")\n",
    "# write_cond(70, 85, 7, \"./config/ops/cond/\")\n",
    "# write_cond(70, 90, 9, \"./config/ops/cond/\")\n",
    "# write_cond(75, 85, 5, \"./config/ops/cond/\")\n",
    "# write_cond(75, 90, 7, \"./config/ops/cond/\")\n",
    "# write_cond(80, 80, 1, \"./config/ops/cond/\")\n",
    "# write_cond(85, 85, 1, \"./config/ops/cond/\")\n",
    "# write_cond(80, 90, 5, \"./config/ops/cond/\")\n",
    "# write_cond(80, 100, 9, \"./config/ops/cond/\")\n",
    "# write_cond(85, 95, 5, \"./config/ops/cond/\")\n",
    "# write_cond(90, 90, 1, \"./config/ops/cond/\")\n",
    "# write_cond(90, 95, 3, \"./config/ops/cond/\")\n",
    "# write_cond(95, 95, 1, \"./config/ops/cond/\")\n",
    "# write_cond(97.5, 97.5, 1, \"./config/ops/cond/\")"
   ]
  }
 ],
 "metadata": {
  "kernelspec": {
   "display_name": "Python 3 (ipykernel)",
   "language": "python",
   "name": "python3"
  },
  "language_info": {
   "codemirror_mode": {
    "name": "ipython",
    "version": 3
   },
   "file_extension": ".py",
   "mimetype": "text/x-python",
   "name": "python",
   "nbconvert_exporter": "python",
   "pygments_lexer": "ipython3",
   "version": "3.12.1"
  }
 },
 "nbformat": 4,
 "nbformat_minor": 5
}
